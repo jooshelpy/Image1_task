{
 "cells": [
  {
   "cell_type": "markdown",
   "metadata": {},
   "source": [
    "# Image processing (Task 2)"
   ]
  },
  {
   "cell_type": "markdown",
   "metadata": {},
   "source": [
    "## Task 2.1"
   ]
  },
  {
   "cell_type": "code",
   "execution_count": 2,
   "metadata": {},
   "outputs": [],
   "source": [
    "import cv2 as cv\n",
    "import numpy as np\n",
    "import matplotlib.pyplot as plt\n",
    "\n",
    "def display_img(img):\n",
    "    new_img = cv.cvtColor(img, cv.COLOR_BGR2RGB)\n",
    "    plt.imshow(new_img)\n",
    "    plt.show()\n",
    "\n",
    "# def rescaleFrame(frame, scale):\n",
    "#     width = int(frame.shape[1] * scale)\n",
    "#     height = int(frame.shape[0] * scale)\n",
    "#     dimensions = (height, width)\n",
    "#     return cv.resize(frame, dimensions, interpolation=cv.INTER_AREA)\n",
    "\n",
    "def displayImages(img1,img2):\n",
    "    fig= plt.figure(figsize=(10,20))\n",
    "    fig.add_subplot(1, 2, 1)\n",
    "    plt.imshow(img1, cmap='gray')\n",
    "    plt.axis('off')\n",
    "    plt.title(\"First\")\n",
    "    \n",
    "    fig.add_subplot(1, 2, 2)\n",
    "    plt.imshow(img2, cmap='gray')\n",
    "    plt.axis('off')\n",
    "    plt.title(\"Second\")\n",
    "    plt.show()"
   ]
  },
  {
   "cell_type": "code",
   "execution_count": 3,
   "metadata": {},
   "outputs": [],
   "source": [
    "capture = cv.VideoCapture('./task-assets/video1.mp4')\n",
    "while True:\n",
    "    # read frames\n",
    "    isTrue, frame = capture.read()\n",
    "\n",
    "    if not isTrue:\n",
    "        break\n",
    "\n",
    "    hsv_image = cv.cvtColor(frame, cv.COLOR_BGR2HSV)\n",
    "\n",
    "    # extrract blue\n",
    "    hsv_lower = np.array([100, 100, 100])\n",
    "    hsv_upper = np.array([140, 255, 255])\n",
    "\n",
    "    mask = cv.inRange(hsv_image, hsv_lower, hsv_upper)\n",
    "    masked_image = cv.bitwise_and(hsv_image, hsv_image, mask=mask)\n",
    "\n",
    "    cv.imshow('video', masked_image)\n",
    "\n",
    "    if cv.waitKey(1) & 0xff==ord('q'): # Press 'q' key to exit\n",
    "        break\n",
    "\n",
    "capture.release()\n",
    "cv.destroyAllWindows()    "
   ]
  },
  {
   "cell_type": "markdown",
   "metadata": {},
   "source": [
    "## Task 2.2"
   ]
  },
  {
   "cell_type": "code",
   "execution_count": 16,
   "metadata": {},
   "outputs": [
    {
     "data": {
      "text/plain": [
       "(1280, 1280, 3)"
      ]
     },
     "execution_count": 16,
     "metadata": {},
     "output_type": "execute_result"
    }
   ],
   "source": [
    "def get_guassian_kernel(size, sigma):\n",
    "    # Create a grid of x and y values centered around the origin\n",
    "    x, y = np.meshgrid(np.arange(size) - size//2, np.arange(size) - size//2)\n",
    "\n",
    "    # Calculate the Gaussian values for each point in the grid\n",
    "    kernel = np.exp(-(x**2 + y**2) / (2 * sigma**2))\n",
    "\n",
    "    # Normalize the kernel so that its values sum up to 1\n",
    "    kernel /= np.sum(kernel) \n",
    "    return kernel\n",
    "\n",
    "def guassian_filter(img, kernal_size, sigma):\n",
    "    kernel = get_guassian_kernel(kernal_size, sigma)\n",
    "    return cv.filter2D(img, -1, kernel)\n",
    "\n",
    "# Load the image\n",
    "img = cv.imread('./task-assets/joo.jpg')\n",
    "resized_image = cv.resize(img, (700,700), interpolation=cv.INTER_CUBIC)\n",
    "\n",
    "\n",
    "# Set kernel size and sigma\n",
    "kernel = 5\n",
    "sigma = 2.0\n",
    "\n",
    "# Apply Gaussian blur\n",
    "blured_image = guassian_filter(resized_image, kernel, sigma)\n",
    "\n",
    "# Display the original and blurred images\n",
    "cv.imshow('Original Image', resized_image)\n",
    "cv.imshow('Blurred Image', blured_image)\n",
    "cv.waitKey(0)\n",
    "cv.destroyAllWindows()\n",
    "img.shape\n",
    "\n",
    "\n"
   ]
  },
  {
   "cell_type": "markdown",
   "metadata": {},
   "source": [
    "## Task 2.3"
   ]
  },
  {
   "cell_type": "code",
   "execution_count": 19,
   "metadata": {},
   "outputs": [
    {
     "data": {
      "text/plain": [
       "['EVENT_FLAG_ALTKEY',\n",
       " 'EVENT_FLAG_CTRLKEY',\n",
       " 'EVENT_FLAG_LBUTTON',\n",
       " 'EVENT_FLAG_MBUTTON',\n",
       " 'EVENT_FLAG_RBUTTON',\n",
       " 'EVENT_FLAG_SHIFTKEY',\n",
       " 'EVENT_LBUTTONDBLCLK',\n",
       " 'EVENT_LBUTTONDOWN',\n",
       " 'EVENT_LBUTTONUP',\n",
       " 'EVENT_MBUTTONDBLCLK',\n",
       " 'EVENT_MBUTTONDOWN',\n",
       " 'EVENT_MBUTTONUP',\n",
       " 'EVENT_MOUSEHWHEEL',\n",
       " 'EVENT_MOUSEMOVE',\n",
       " 'EVENT_MOUSEWHEEL',\n",
       " 'EVENT_RBUTTONDBLCLK',\n",
       " 'EVENT_RBUTTONDOWN',\n",
       " 'EVENT_RBUTTONUP']"
      ]
     },
     "execution_count": 19,
     "metadata": {},
     "output_type": "execute_result"
    }
   ],
   "source": [
    "# mouce events in openCV\n",
    "events = [i for i in dir(cv) if 'EVENT' in i]\n",
    "events"
   ]
  },
  {
   "cell_type": "code",
   "execution_count": 6,
   "metadata": {},
   "outputs": [
    {
     "name": "stdout",
     "output_type": "stream",
     "text": [
      "Pixel color at (514, 425): B=92, G=9, R=1\n",
      "Pixel color at (394, 352): B=196, G=31, R=160\n",
      "Pixel color at (4, 6): B=115, G=36, R=17\n",
      "Pixel color at (0, 1): B=117, G=34, R=19\n",
      "Pixel color at (344, 448): B=152, G=116, R=22\n",
      "Pixel color at (43, 543): B=129, G=139, R=139\n",
      "Pixel color at (475, 168): B=175, G=115, R=69\n"
     ]
    }
   ],
   "source": [
    "image = cv.imread('./task-assets/colorpic.jpg')\n",
    "def get_pixel_color(event, x, y, flags, param):\n",
    "    if event == cv.EVENT_LBUTTONDOWN:\n",
    "        # Get the color (B, G, R) of the clicked pixel\n",
    "        pixel_color = image[y, x]\n",
    "        print(f\"Pixel color at ({x}, {y}): B={pixel_color[0]}, G={pixel_color[1]}, R={pixel_color[2]}\")\n",
    "\n",
    "cv.namedWindow(\"Image\")\n",
    "cv.setMouseCallback(\"Image\", get_pixel_color)\n",
    "\n",
    "while True:\n",
    "    cv.imshow(\"Image\", image)\n",
    "    if cv.waitKey(1) & 0xFF == ord('q'):  # Press 'q' key to exit\n",
    "        break\n",
    "\n",
    "cv.destroyAllWindows()"
   ]
  },
  {
   "cell_type": "code",
   "execution_count": null,
   "metadata": {},
   "outputs": [],
   "source": []
  }
 ],
 "metadata": {
  "kernelspec": {
   "display_name": "base",
   "language": "python",
   "name": "python3"
  },
  "language_info": {
   "codemirror_mode": {
    "name": "ipython",
    "version": 3
   },
   "file_extension": ".py",
   "mimetype": "text/x-python",
   "name": "python",
   "nbconvert_exporter": "python",
   "pygments_lexer": "ipython3",
   "version": "3.11.4"
  },
  "orig_nbformat": 4
 },
 "nbformat": 4,
 "nbformat_minor": 2
}
