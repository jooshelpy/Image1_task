{
 "cells": [
  {
   "cell_type": "markdown",
   "metadata": {},
   "source": [
    "# Image processing (Task 2)"
   ]
  },
  {
   "cell_type": "markdown",
   "metadata": {},
   "source": [
    "## Task 2.1"
   ]
  },
  {
   "cell_type": "code",
   "execution_count": 3,
   "metadata": {},
   "outputs": [],
   "source": [
    "import cv2 as cv\n",
    "import numpy as np\n",
    "import matplotlib.pyplot as plt\n",
    "\n",
    "def display_img(img):\n",
    "    new_img = cv.cvtColor(img, cv.COLOR_BGR2RGB)\n",
    "    plt.imshow(new_img)\n",
    "    plt.show()\n",
    "\n",
    "def rescaleFrame(frame, scale):\n",
    "    width = int(frame.shape[1] * scale)\n",
    "    height = int(frame.shape[0] * scale)\n",
    "    dimensions = (height, width)\n",
    "    return cv.resize(frame, dimensions, interpolation=cv.INTER_AREA)\n",
    "\n",
    "def displayImages(img1,img2):\n",
    "    fig= plt.figure(figsize=(10,20))\n",
    "    fig.add_subplot(1, 2, 1)\n",
    "    plt.imshow(img1, cmap='gray')\n",
    "    plt.axis('off')\n",
    "    plt.title(\"First\")\n",
    "    \n",
    "    fig.add_subplot(1, 2, 2)\n",
    "    plt.imshow(img2, cmap='gray')\n",
    "    plt.axis('off')\n",
    "    plt.title(\"Second\")\n",
    "    plt.show()"
   ]
  },
  {
   "cell_type": "code",
   "execution_count": 9,
   "metadata": {},
   "outputs": [],
   "source": [
    "capture = cv.VideoCapture('./task-assets/video1.mp4')\n",
    "while True:\n",
    "    # read frames\n",
    "    isTrue, frame = capture.read()\n",
    "\n",
    "    if not isTrue:\n",
    "        break\n",
    "\n",
    "    hsv_image = cv.cvtColor(frame, cv.COLOR_BGR2HSV)\n",
    "\n",
    "    # extrract blue\n",
    "    hsv_lower = np.array([100, 100, 100])\n",
    "    hsv_upper = np.array([140, 255, 255])\n",
    "\n",
    "    mask = cv.inRange(hsv_image, hsv_lower, hsv_upper)\n",
    "    masked_image = cv.bitwise_and(hsv_image, hsv_image, mask=mask)\n",
    "\n",
    "    cv.imshow('video', masked_image)\n",
    "\n",
    "    if cv.waitKey(20) & 0xff==ord('d'):\n",
    "        break\n",
    "\n",
    "capture.release()\n",
    "cv.destroyAllWindows()    "
   ]
  },
  {
   "cell_type": "markdown",
   "metadata": {},
   "source": [
    "## Task 2.2"
   ]
  },
  {
   "cell_type": "code",
   "execution_count": 16,
   "metadata": {},
   "outputs": [
    {
     "data": {
      "text/plain": [
       "(1280, 1280, 3)"
      ]
     },
     "execution_count": 16,
     "metadata": {},
     "output_type": "execute_result"
    }
   ],
   "source": [
    "def get_guassian_kernel(size, sigma):\n",
    "    # Create a grid of x and y values centered around the origin\n",
    "    x, y = np.meshgrid(np.arange(size) - size//2, np.arange(size) - size//2)\n",
    "\n",
    "    # Calculate the Gaussian values for each point in the grid\n",
    "    kernel = np.exp(-(x**2 + y**2) / (2 * sigma**2))\n",
    "\n",
    "    # Normalize the kernel so that its values sum up to 1\n",
    "    kernel /= np.sum(kernel) \n",
    "    return kernel\n",
    "\n",
    "def guassian_filter(img, kernal_size, sigma):\n",
    "    kernel = get_guassian_kernel(kernal_size, sigma)\n",
    "    return cv.filter2D(img, -1, kernel)\n",
    "\n",
    "# Load the image\n",
    "img = cv.imread('./task-assets/joo.jpg')\n",
    "resized_image = cv.resize(img, (700,700), interpolation=cv.INTER_CUBIC)\n",
    "\n",
    "\n",
    "# Set kernel size and sigma\n",
    "kernel = 5\n",
    "sigma = 2.0\n",
    "\n",
    "# Apply Gaussian blur\n",
    "blured_image = guassian_filter(resized_image, kernel, sigma)\n",
    "\n",
    "# Display the original and blurred images\n",
    "cv.imshow('Original Image', resized_image)\n",
    "cv.imshow('Blurred Image', blured_image)\n",
    "cv.waitKey(0)\n",
    "cv.destroyAllWindows()\n",
    "img.shape\n",
    "\n",
    "\n"
   ]
  },
  {
   "cell_type": "code",
   "execution_count": null,
   "metadata": {},
   "outputs": [],
   "source": []
  }
 ],
 "metadata": {
  "kernelspec": {
   "display_name": "base",
   "language": "python",
   "name": "python3"
  },
  "language_info": {
   "codemirror_mode": {
    "name": "ipython",
    "version": 3
   },
   "file_extension": ".py",
   "mimetype": "text/x-python",
   "name": "python",
   "nbconvert_exporter": "python",
   "pygments_lexer": "ipython3",
   "version": "3.11.4"
  },
  "orig_nbformat": 4
 },
 "nbformat": 4,
 "nbformat_minor": 2
}
