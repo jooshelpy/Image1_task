{
 "cells": [
  {
   "cell_type": "markdown",
   "metadata": {},
   "source": [
    "# Image processing (Task 2)"
   ]
  },
  {
   "cell_type": "markdown",
   "metadata": {},
   "source": [
    "## Task 2.1"
   ]
  },
  {
   "cell_type": "code",
   "execution_count": 1,
   "metadata": {},
   "outputs": [],
   "source": [
    "import cv2 as cv\n",
    "import numpy as np\n",
    "import matplotlib.pyplot as plt\n",
    "\n",
    "def display_img(img):\n",
    "    new_img = cv.cvtColor(img, cv.COLOR_BGR2RGB)\n",
    "    plt.imshow(new_img)\n",
    "    plt.show()\n",
    "\n",
    "def rescaleFrame(frame, scale=0.75):\n",
    "    width = int(frame.shape[1] * scale)\n",
    "    height = int(frame.shape[0] * scale)\n",
    "    dimensions = (height, width)\n",
    "\n",
    "    return cv.resize(frame, dimensions, interpolation=cv.INTER_AREA)\n"
   ]
  },
  {
   "cell_type": "code",
   "execution_count": 6,
   "metadata": {},
   "outputs": [],
   "source": [
    "capture = cv.VideoCapture('./task-assets/video1.mp4')\n",
    "while True:\n",
    "    # read frames\n",
    "    _, frame = capture.read()\n",
    "    hsv_image = cv.cvtColor(frame, cv.COLOR_BGR2HSV)\n",
    "\n",
    "    # extrract blue\n",
    "    hsv_lower = np.array([50, 50, 90])\n",
    "    hsv_upper = np.array([255, 255, 130])\n",
    "\n",
    "    mask = cv.inRange(hsv_image, hsv_lower, hsv_upper)\n",
    "    masked_image = cv.bitwise_and(hsv_image, hsv_image, mask=mask)\n",
    "\n",
    "    cv.imshow('video', masked_image)\n",
    "\n",
    "    if cv.waitKey(20) & 0xff==ord('d'):\n",
    "        break\n",
    "\n",
    "capture.release()\n",
    "cv.destroyAllWindows()    "
   ]
  },
  {
   "cell_type": "markdown",
   "metadata": {},
   "source": [
    "## Task 2.2"
   ]
  },
  {
   "cell_type": "code",
   "execution_count": null,
   "metadata": {},
   "outputs": [],
   "source": []
  }
 ],
 "metadata": {
  "kernelspec": {
   "display_name": "base",
   "language": "python",
   "name": "python3"
  },
  "language_info": {
   "codemirror_mode": {
    "name": "ipython",
    "version": 3
   },
   "file_extension": ".py",
   "mimetype": "text/x-python",
   "name": "python",
   "nbconvert_exporter": "python",
   "pygments_lexer": "ipython3",
   "version": "3.11.4"
  },
  "orig_nbformat": 4
 },
 "nbformat": 4,
 "nbformat_minor": 2
}
